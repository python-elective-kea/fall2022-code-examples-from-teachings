{
 "cells": [
  {
   "cell_type": "markdown",
   "id": "ceb96b1d-4619-4b24-a6b3-d2417fcc6b09",
   "metadata": {},
   "source": [
    "# Coroutines"
   ]
  },
  {
   "cell_type": "markdown",
   "id": "13f5db8f-8e45-4c91-9c2d-8edd43ba4aec",
   "metadata": {},
   "source": [
    "## Routine/subroutine pattern"
   ]
  },
  {
   "cell_type": "code",
   "execution_count": 14,
   "id": "2b5c7da9-7a85-40af-a588-0f763db19170",
   "metadata": {},
   "outputs": [],
   "source": [
    "class Api:\n",
    "    def do_this_first(self):\n",
    "        return 'from 1. method'\n",
    "    def do_this_second(self):\n",
    "        return 'from 2. method'\n",
    "    def do_this_third(self):\n",
    "        return 'from 3. method'\n",
    "    \n",
    "    def run(self):\n",
    "        self.do_this_first()\n",
    "        self.do_this_second()\n",
    "        self.do_this_third()"
   ]
  },
  {
   "cell_type": "code",
   "execution_count": 15,
   "id": "14be5d4d-6881-49f5-8546-08d2da373b18",
   "metadata": {},
   "outputs": [],
   "source": [
    "x = Api()\n",
    "\n",
    "def api():\n",
    "    yield x.do_this_first()\n",
    "    yield x.do_this_second()\n",
    "    yield x.do_this_third()"
   ]
  },
  {
   "cell_type": "code",
   "execution_count": 20,
   "id": "d2c602cd-d58d-4059-9896-2b6deef7abb8",
   "metadata": {},
   "outputs": [],
   "source": [
    "y = api()\n",
    "#print(next(y))\n",
    "#print('Her gør jeg noget finurligt!')\n",
    "#print(next(y))\n",
    "#print('her er jeg næsten færdig')\n",
    "#print(next(y))"
   ]
  },
  {
   "cell_type": "markdown",
   "id": "c687aaf5-cc98-4800-a683-defa11a226c0",
   "metadata": {},
   "source": [
    "## Coroutine pattern"
   ]
  },
  {
   "cell_type": "code",
   "execution_count": 26,
   "id": "79bfa919-e677-4751-b254-0798fcf81954",
   "metadata": {},
   "outputs": [],
   "source": [
    "def api():\n",
    "    x = yield 'Coroutine satrted'\n",
    "    yield x * x"
   ]
  },
  {
   "cell_type": "code",
   "execution_count": 27,
   "id": "c5eac57f-50cd-4adb-9dde-d6266fcb83b3",
   "metadata": {},
   "outputs": [
    {
     "data": {
      "text/plain": [
       "'Coroutine satrted'"
      ]
     },
     "execution_count": 27,
     "metadata": {},
     "output_type": "execute_result"
    }
   ],
   "source": [
    "x = api()\n",
    "next(x)"
   ]
  },
  {
   "cell_type": "code",
   "execution_count": 28,
   "id": "737abbd7-29c7-4975-a0b7-18418f695025",
   "metadata": {},
   "outputs": [
    {
     "data": {
      "text/plain": [
       "144"
      ]
     },
     "execution_count": 28,
     "metadata": {},
     "output_type": "execute_result"
    }
   ],
   "source": [
    "x.send(12)"
   ]
  },
  {
   "cell_type": "markdown",
   "id": "270aadc4-a58f-42e8-924c-8160579fa84f",
   "metadata": {},
   "source": [
    "# Avenger"
   ]
  },
  {
   "cell_type": "code",
   "execution_count": 30,
   "id": "94c7acac-675d-48cb-932f-967ad8aa5b6a",
   "metadata": {},
   "outputs": [],
   "source": [
    "def averager(*args):\n",
    "     sum = 0\n",
    "     for i in args:\n",
    "            sum += i\n",
    "     return sum/len(args)"
   ]
  },
  {
   "cell_type": "code",
   "execution_count": 32,
   "id": "ca21bb0d-847b-4ba5-a8e3-850a279adbdb",
   "metadata": {},
   "outputs": [
    {
     "data": {
      "text/plain": [
       "5.0"
      ]
     },
     "execution_count": 32,
     "metadata": {},
     "output_type": "execute_result"
    }
   ],
   "source": [
    "averager(5, 5, 5, 5 )"
   ]
  },
  {
   "cell_type": "code",
   "execution_count": 75,
   "id": "c1949d32-1258-443e-a782-f44c629dace7",
   "metadata": {},
   "outputs": [],
   "source": [
    "def averanger(x):\n",
    "    sum = 0\n",
    "    count = 0\n",
    "    avg = 0\n",
    "    term = 111\n",
    "    while term:\n",
    "        term = yield avg\n",
    "        sum += term\n",
    "        count += 1\n",
    "        avg = sum / count"
   ]
  },
  {
   "cell_type": "code",
   "execution_count": 76,
   "id": "6f2f2a85-7945-49a4-97b0-25fc5cb758a8",
   "metadata": {},
   "outputs": [
    {
     "data": {
      "text/plain": [
       "0"
      ]
     },
     "execution_count": 76,
     "metadata": {},
     "output_type": "execute_result"
    }
   ],
   "source": [
    "x = averanger(1)\n",
    "next(x)"
   ]
  },
  {
   "cell_type": "code",
   "execution_count": 77,
   "id": "951e5019-c021-43ab-b46f-4216bfc38abd",
   "metadata": {},
   "outputs": [
    {
     "name": "stdout",
     "output_type": "stream",
     "text": [
      "10.0\n",
      "9.5\n",
      "9.0\n",
      "8.5\n",
      "8.0\n",
      "7.5\n",
      "7.0\n",
      "6.5\n",
      "6.0\n",
      "5.5\n"
     ]
    }
   ],
   "source": [
    "for i in range(10, 0 ,-1):\n",
    "    print(x.send(i))"
   ]
  },
  {
   "cell_type": "code",
   "execution_count": 78,
   "id": "17c3c6fc-faee-4eb2-bd1f-c6b6d4e46eb9",
   "metadata": {},
   "outputs": [],
   "source": [
    "def xxx():\n",
    "    yy = yield 'Hello'\n",
    "    yy = yield yy"
   ]
  },
  {
   "cell_type": "code",
   "execution_count": 80,
   "id": "6ddf1d19-c95b-4cb0-908c-0b4ed356fc08",
   "metadata": {},
   "outputs": [
    {
     "data": {
      "text/plain": [
       "'Hello'"
      ]
     },
     "execution_count": 80,
     "metadata": {},
     "output_type": "execute_result"
    }
   ],
   "source": [
    "x = xxx()\n",
    "next(x)"
   ]
  },
  {
   "cell_type": "code",
   "execution_count": 81,
   "id": "d91087a4-61d7-4e42-90f0-f79fa673717f",
   "metadata": {},
   "outputs": [
    {
     "data": {
      "text/plain": [
       "3636"
      ]
     },
     "execution_count": 81,
     "metadata": {},
     "output_type": "execute_result"
    }
   ],
   "source": [
    "x.send(3636)"
   ]
  },
  {
   "cell_type": "markdown",
   "id": "f027ca16-ee60-444f-a476-6aab42530680",
   "metadata": {},
   "source": [
    "# Context Managers"
   ]
  },
  {
   "cell_type": "code",
   "execution_count": 11,
   "id": "0e2b5014-be3d-4186-b0e7-f60ab97d4870",
   "metadata": {},
   "outputs": [
    {
     "name": "stdout",
     "output_type": "stream",
     "text": [
      "An expert is a person who has made all the mistakes that can be made in a very narrow field.\n",
      "\n"
     ]
    }
   ],
   "source": [
    "f = open('testfiles/bohr.txt')\n",
    "print(f.readline())"
   ]
  },
  {
   "cell_type": "code",
   "execution_count": null,
   "id": "fa0eefef-7228-4384-92c5-f18ebd6d1623",
   "metadata": {},
   "outputs": [],
   "source": []
  }
 ],
 "metadata": {
  "kernelspec": {
   "display_name": "Python 3 (ipykernel)",
   "language": "python",
   "name": "python3"
  },
  "language_info": {
   "codemirror_mode": {
    "name": "ipython",
    "version": 3
   },
   "file_extension": ".py",
   "mimetype": "text/x-python",
   "name": "python",
   "nbconvert_exporter": "python",
   "pygments_lexer": "ipython3",
   "version": "3.10.5"
  }
 },
 "nbformat": 4,
 "nbformat_minor": 5
}
