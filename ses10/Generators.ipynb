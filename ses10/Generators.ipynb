{
 "cells": [
  {
   "cell_type": "markdown",
   "id": "0feb94e9-e0fb-4cb4-87ac-1847946b102e",
   "metadata": {
    "tags": []
   },
   "source": [
    "# Generators"
   ]
  },
  {
   "cell_type": "markdown",
   "id": "6ef69713-7fab-47e0-9707-0cd659a6789e",
   "metadata": {
    "tags": []
   },
   "source": [
    "## Relation between functions, classes and objects"
   ]
  },
  {
   "cell_type": "markdown",
   "id": "8dcea68c-76e2-4df8-adc3-c91f341a22bf",
   "metadata": {},
   "source": [
    "A function is basicly a callable object of a class. <br>It is an **abstraction**, and therefor an easier way to write and use code. "
   ]
  },
  {
   "cell_type": "code",
   "execution_count": 129,
   "id": "fa6954cb-97d5-4ee1-88d2-b577c1720350",
   "metadata": {
    "tags": []
   },
   "outputs": [],
   "source": [
    "def my_func():\n",
    "    return 'From my_func'"
   ]
  },
  {
   "cell_type": "code",
   "execution_count": 132,
   "id": "897d804d-86e7-452a-bc17-983fd9bbc4e6",
   "metadata": {},
   "outputs": [
    {
     "name": "stdout",
     "output_type": "stream",
     "text": [
      "<class 'function'>\n"
     ]
    }
   ],
   "source": [
    "print(type(my_func))"
   ]
  },
  {
   "cell_type": "code",
   "execution_count": 30,
   "id": "1f440ade-b9c1-4d63-96d3-0732ddd715b2",
   "metadata": {},
   "outputs": [],
   "source": [
    "class MyClass:\n",
    "    pass"
   ]
  },
  {
   "cell_type": "code",
   "execution_count": 31,
   "id": "42fdcb29-3c9b-40e7-b9c6-c0eb5562bcac",
   "metadata": {},
   "outputs": [
    {
     "name": "stdout",
     "output_type": "stream",
     "text": [
      "<class 'type'>\n"
     ]
    }
   ],
   "source": [
    "print(type(MyClass))"
   ]
  },
  {
   "cell_type": "code",
   "execution_count": null,
   "id": "8653e3f2-7072-4f08-bb2f-efe40a13a286",
   "metadata": {},
   "outputs": [],
   "source": []
  },
  {
   "cell_type": "markdown",
   "id": "f485bd2b-f52c-4b96-91e2-19ce47003ee1",
   "metadata": {},
   "source": [
    "### How to write a function through a class? "
   ]
  },
  {
   "cell_type": "markdown",
   "id": "bbdb83bd-35e9-465e-9baa-11397f424fed",
   "metadata": {},
   "source": [
    "You make the object of that class callable"
   ]
  },
  {
   "cell_type": "code",
   "execution_count": 117,
   "id": "b3cba83b-611d-4be5-9921-ae7de1d3b29f",
   "metadata": {},
   "outputs": [
    {
     "data": {
      "text/plain": [
       "'From my_func'"
      ]
     },
     "execution_count": 117,
     "metadata": {},
     "output_type": "execute_result"
    }
   ],
   "source": [
    "my_func() "
   ]
  },
  {
   "cell_type": "code",
   "execution_count": 150,
   "id": "13ebf026-9c36-4047-8bbd-15b186466e41",
   "metadata": {},
   "outputs": [],
   "source": [
    "class MyClass:\n",
    "    def __call__(self):\n",
    "        return 'From MyClass´s call method'"
   ]
  },
  {
   "cell_type": "code",
   "execution_count": 151,
   "id": "6f46de87-15a1-4fd4-b1f4-95b0dfdb4a85",
   "metadata": {},
   "outputs": [],
   "source": [
    "my_func = MyClass()"
   ]
  },
  {
   "cell_type": "code",
   "execution_count": 152,
   "id": "2b462c50-78be-4762-888b-ef032753bf86",
   "metadata": {},
   "outputs": [
    {
     "data": {
      "text/plain": [
       "True"
      ]
     },
     "execution_count": 152,
     "metadata": {},
     "output_type": "execute_result"
    }
   ],
   "source": [
    "callable(my_func)"
   ]
  },
  {
   "cell_type": "code",
   "execution_count": 153,
   "id": "f9460ad7-5b83-4db2-b8ad-62275625a0b6",
   "metadata": {},
   "outputs": [
    {
     "data": {
      "text/plain": [
       "'From MyClass´s call method'"
      ]
     },
     "execution_count": 153,
     "metadata": {},
     "output_type": "execute_result"
    }
   ],
   "source": [
    "my_func()"
   ]
  },
  {
   "cell_type": "code",
   "execution_count": null,
   "id": "484a5d9d-acbc-495a-ba03-ff5d93f5fea0",
   "metadata": {},
   "outputs": [],
   "source": []
  },
  {
   "cell_type": "markdown",
   "id": "14e6a995-748b-4f86-83d6-3a73ae7a0d7c",
   "metadata": {},
   "source": [
    "This means that anything you would define in a function could be definned in a class´s \\_\\_call\\_\\_ method."
   ]
  },
  {
   "cell_type": "markdown",
   "id": "8b641669-dc8c-4f98-9604-4cce6adf9120",
   "metadata": {},
   "source": [
    "### Compute"
   ]
  },
  {
   "cell_type": "code",
   "execution_count": 158,
   "id": "d0172416-efc3-4ccb-87ab-c8f419e17dfc",
   "metadata": {},
   "outputs": [],
   "source": [
    "def compute():\n",
    "    li = []\n",
    "    for i in range(10):\n",
    "        li.append(i)\n",
    "    return li"
   ]
  },
  {
   "cell_type": "code",
   "execution_count": 159,
   "id": "d762a29f-8c88-497c-ba84-9597ed33d011",
   "metadata": {},
   "outputs": [
    {
     "data": {
      "text/plain": [
       "[0, 1, 2, 3, 4, 5, 6, 7, 8, 9]"
      ]
     },
     "execution_count": 159,
     "metadata": {},
     "output_type": "execute_result"
    }
   ],
   "source": [
    "compute()"
   ]
  },
  {
   "cell_type": "code",
   "execution_count": 160,
   "id": "5136715a-37c9-44c9-a4b2-b86b60a6698b",
   "metadata": {},
   "outputs": [],
   "source": [
    "class Compute:\n",
    "    def __call__(self):\n",
    "        li = []\n",
    "        for i in range(10):\n",
    "            li.append(i)\n",
    "        return li"
   ]
  },
  {
   "cell_type": "code",
   "execution_count": 161,
   "id": "3931b7ac-e3c8-4e77-84a2-1b0a58d72239",
   "metadata": {},
   "outputs": [],
   "source": [
    "compute = Compute()"
   ]
  },
  {
   "cell_type": "code",
   "execution_count": 162,
   "id": "68ef88c4-5cd8-4b2b-9725-d40c59f3330b",
   "metadata": {},
   "outputs": [
    {
     "data": {
      "text/plain": [
       "[0, 1, 2, 3, 4, 5, 6, 7, 8, 9]"
      ]
     },
     "execution_count": 162,
     "metadata": {},
     "output_type": "execute_result"
    }
   ],
   "source": [
    "compute()"
   ]
  },
  {
   "cell_type": "markdown",
   "id": "cd0ffef9-9e45-4987-8ce4-8c22964527bd",
   "metadata": {
    "jp-MarkdownHeadingCollapsed": true,
    "tags": []
   },
   "source": [
    "## Generators"
   ]
  },
  {
   "cell_type": "code",
   "execution_count": 41,
   "id": "d2abceff-61cf-41b2-803c-9a303e08f6cf",
   "metadata": {},
   "outputs": [],
   "source": [
    "from time import sleep"
   ]
  },
  {
   "cell_type": "code",
   "execution_count": 42,
   "id": "c452516a-8f8b-44b4-aef1-e3700aadc5c3",
   "metadata": {},
   "outputs": [],
   "source": []
  },
  {
   "cell_type": "code",
   "execution_count": 126,
   "id": "334b8f6f-e35e-4a1d-bce6-dc756e0093a3",
   "metadata": {},
   "outputs": [],
   "source": []
  },
  {
   "cell_type": "code",
   "execution_count": 127,
   "id": "94a0350d-43e5-45cf-a7d3-d44169bb6049",
   "metadata": {},
   "outputs": [],
   "source": []
  },
  {
   "cell_type": "code",
   "execution_count": null,
   "id": "6b14d8c9-0d6f-4bad-852d-59107a75e3a5",
   "metadata": {},
   "outputs": [],
   "source": []
  },
  {
   "cell_type": "code",
   "execution_count": null,
   "id": "2bb53ef7-0a83-4195-bc84-c0bc397aafab",
   "metadata": {},
   "outputs": [],
   "source": []
  },
  {
   "cell_type": "markdown",
   "id": "572ddd04-8e0b-4dcd-acc9-2cf28f0283a2",
   "metadata": {},
   "source": [
    "### Iterator class"
   ]
  },
  {
   "cell_type": "code",
   "execution_count": null,
   "id": "81aa6885-20c3-4b83-a05d-100ab158b145",
   "metadata": {},
   "outputs": [],
   "source": []
  },
  {
   "cell_type": "code",
   "execution_count": null,
   "id": "ecc5c89c-83c7-4cd6-960e-0da4504814a7",
   "metadata": {},
   "outputs": [],
   "source": []
  },
  {
   "cell_type": "code",
   "execution_count": null,
   "id": "bfab7977-1a11-43bb-a0d0-1c920f011fd3",
   "metadata": {},
   "outputs": [],
   "source": []
  },
  {
   "cell_type": "code",
   "execution_count": null,
   "id": "69d2cee3-24d4-45d9-86d9-112042c8dc7f",
   "metadata": {},
   "outputs": [],
   "source": []
  },
  {
   "cell_type": "code",
   "execution_count": null,
   "id": "a4a1a908-2c7f-47b1-a2d2-19d85c557056",
   "metadata": {},
   "outputs": [],
   "source": []
  },
  {
   "cell_type": "markdown",
   "id": "5fc99b84-e026-4c52-bb36-6ea46f7f4cdb",
   "metadata": {},
   "source": [
    "### generator function"
   ]
  },
  {
   "cell_type": "code",
   "execution_count": null,
   "id": "9b4d87ea-5ed1-4ba6-bc97-5bf34c7ee2be",
   "metadata": {},
   "outputs": [],
   "source": []
  },
  {
   "cell_type": "code",
   "execution_count": null,
   "id": "c230b26c-364f-4162-822b-ac63aa43f4e2",
   "metadata": {},
   "outputs": [],
   "source": []
  },
  {
   "cell_type": "code",
   "execution_count": null,
   "id": "0dfa2614-738c-4e18-834d-407d39f90759",
   "metadata": {},
   "outputs": [],
   "source": []
  },
  {
   "cell_type": "code",
   "execution_count": null,
   "id": "97cc4e52-8bd4-45fc-9f94-08cee63fdbeb",
   "metadata": {},
   "outputs": [],
   "source": []
  },
  {
   "cell_type": "markdown",
   "id": "a18e1b8c-2983-4421-9368-b2c4dcdfbebb",
   "metadata": {},
   "source": [
    "### Generator expression"
   ]
  },
  {
   "cell_type": "code",
   "execution_count": 115,
   "id": "ff7bf675-e1da-422b-ba27-0788b50a1b43",
   "metadata": {},
   "outputs": [],
   "source": []
  },
  {
   "cell_type": "code",
   "execution_count": null,
   "id": "48c73b21-dc32-47f7-b5bc-7dbad8efa6b7",
   "metadata": {},
   "outputs": [],
   "source": []
  },
  {
   "cell_type": "markdown",
   "id": "264247e3-fb29-4529-8a27-a47cc94182dd",
   "metadata": {},
   "source": [
    "### for loop uses the iterator protocol"
   ]
  },
  {
   "cell_type": "code",
   "execution_count": null,
   "id": "a833d466-b5a8-452e-b17b-05c60aa5e18a",
   "metadata": {},
   "outputs": [],
   "source": []
  },
  {
   "cell_type": "code",
   "execution_count": null,
   "id": "3c2730ab-20e3-46cd-ae52-54f6f4fce9b4",
   "metadata": {},
   "outputs": [],
   "source": []
  }
 ],
 "metadata": {
  "kernelspec": {
   "display_name": "Python 3 (ipykernel)",
   "language": "python",
   "name": "python3"
  },
  "language_info": {
   "codemirror_mode": {
    "name": "ipython",
    "version": 3
   },
   "file_extension": ".py",
   "mimetype": "text/x-python",
   "name": "python",
   "nbconvert_exporter": "python",
   "pygments_lexer": "ipython3",
   "version": "3.10.5"
  }
 },
 "nbformat": 4,
 "nbformat_minor": 5
}
