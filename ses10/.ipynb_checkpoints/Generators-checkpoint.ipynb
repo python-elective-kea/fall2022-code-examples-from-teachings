{
 "cells": [
  {
   "cell_type": "markdown",
   "id": "0feb94e9-e0fb-4cb4-87ac-1847946b102e",
   "metadata": {
    "jp-MarkdownHeadingCollapsed": true,
    "tags": []
   },
   "source": [
    "# Generators"
   ]
  },
  {
   "cell_type": "markdown",
   "id": "6ef69713-7fab-47e0-9707-0cd659a6789e",
   "metadata": {
    "tags": []
   },
   "source": [
    "## Relation between functions, classes and objects"
   ]
  },
  {
   "cell_type": "markdown",
   "id": "8dcea68c-76e2-4df8-adc3-c91f341a22bf",
   "metadata": {},
   "source": [
    "A function is basicly a callable object of a class. <br>It is an **abstraction**, and therefor an easier way to write and use code. "
   ]
  },
  {
   "cell_type": "code",
   "execution_count": 1,
   "id": "fa6954cb-97d5-4ee1-88d2-b577c1720350",
   "metadata": {
    "tags": []
   },
   "outputs": [],
   "source": [
    "def my_func():\n",
    "    return 'From my_func'"
   ]
  },
  {
   "cell_type": "code",
   "execution_count": 2,
   "id": "897d804d-86e7-452a-bc17-983fd9bbc4e6",
   "metadata": {},
   "outputs": [
    {
     "name": "stdout",
     "output_type": "stream",
     "text": [
      "<class 'function'>\n"
     ]
    }
   ],
   "source": [
    "print(type(my_func))"
   ]
  },
  {
   "cell_type": "code",
   "execution_count": 3,
   "id": "1f440ade-b9c1-4d63-96d3-0732ddd715b2",
   "metadata": {},
   "outputs": [],
   "source": [
    "class MyClass:\n",
    "    pass"
   ]
  },
  {
   "cell_type": "code",
   "execution_count": 4,
   "id": "42fdcb29-3c9b-40e7-b9c6-c0eb5562bcac",
   "metadata": {},
   "outputs": [
    {
     "name": "stdout",
     "output_type": "stream",
     "text": [
      "<class 'type'>\n"
     ]
    }
   ],
   "source": [
    "print(type(MyClass))"
   ]
  },
  {
   "cell_type": "code",
   "execution_count": null,
   "id": "8653e3f2-7072-4f08-bb2f-efe40a13a286",
   "metadata": {},
   "outputs": [],
   "source": []
  },
  {
   "cell_type": "markdown",
   "id": "f485bd2b-f52c-4b96-91e2-19ce47003ee1",
   "metadata": {},
   "source": [
    "### How to write a function through a class? "
   ]
  },
  {
   "cell_type": "markdown",
   "id": "bbdb83bd-35e9-465e-9baa-11397f424fed",
   "metadata": {},
   "source": [
    "You make the object of that class callable"
   ]
  },
  {
   "cell_type": "code",
   "execution_count": 5,
   "id": "b3cba83b-611d-4be5-9921-ae7de1d3b29f",
   "metadata": {},
   "outputs": [
    {
     "data": {
      "text/plain": [
       "'From my_func'"
      ]
     },
     "execution_count": 5,
     "metadata": {},
     "output_type": "execute_result"
    }
   ],
   "source": [
    "my_func() "
   ]
  },
  {
   "cell_type": "code",
   "execution_count": 6,
   "id": "13ebf026-9c36-4047-8bbd-15b186466e41",
   "metadata": {},
   "outputs": [],
   "source": [
    "class MyClass:\n",
    "    def __call__(self):\n",
    "        return 'From MyClass´s call method'"
   ]
  },
  {
   "cell_type": "code",
   "execution_count": 7,
   "id": "6f46de87-15a1-4fd4-b1f4-95b0dfdb4a85",
   "metadata": {},
   "outputs": [],
   "source": [
    "my_func = MyClass()"
   ]
  },
  {
   "cell_type": "code",
   "execution_count": 8,
   "id": "2b462c50-78be-4762-888b-ef032753bf86",
   "metadata": {},
   "outputs": [
    {
     "data": {
      "text/plain": [
       "True"
      ]
     },
     "execution_count": 8,
     "metadata": {},
     "output_type": "execute_result"
    }
   ],
   "source": [
    "callable(my_func)"
   ]
  },
  {
   "cell_type": "code",
   "execution_count": 9,
   "id": "f9460ad7-5b83-4db2-b8ad-62275625a0b6",
   "metadata": {},
   "outputs": [
    {
     "data": {
      "text/plain": [
       "'From MyClass´s call method'"
      ]
     },
     "execution_count": 9,
     "metadata": {},
     "output_type": "execute_result"
    }
   ],
   "source": [
    "my_func()"
   ]
  },
  {
   "cell_type": "code",
   "execution_count": null,
   "id": "484a5d9d-acbc-495a-ba03-ff5d93f5fea0",
   "metadata": {},
   "outputs": [],
   "source": []
  },
  {
   "cell_type": "markdown",
   "id": "14e6a995-748b-4f86-83d6-3a73ae7a0d7c",
   "metadata": {},
   "source": [
    "This means that anything you would define in a function could be definned in a class´s \\_\\_call\\_\\_ method."
   ]
  },
  {
   "cell_type": "markdown",
   "id": "8b641669-dc8c-4f98-9604-4cce6adf9120",
   "metadata": {},
   "source": [
    "### Compute"
   ]
  },
  {
   "cell_type": "code",
   "execution_count": 66,
   "id": "165cdf90-c3a9-409f-93be-6079dbc5d2d1",
   "metadata": {},
   "outputs": [],
   "source": [
    "from timer import timer"
   ]
  },
  {
   "cell_type": "code",
   "execution_count": 71,
   "id": "d0172416-efc3-4ccb-87ab-c8f419e17dfc",
   "metadata": {},
   "outputs": [],
   "source": [
    "@timer\n",
    "def compute():\n",
    "    li = []\n",
    "    for i in range(1000000000000):\n",
    "        li.append(i)\n",
    "    return li"
   ]
  },
  {
   "cell_type": "code",
   "execution_count": 72,
   "id": "d762a29f-8c88-497c-ba84-9597ed33d011",
   "metadata": {},
   "outputs": [
    {
     "ename": "KeyboardInterrupt",
     "evalue": "",
     "output_type": "error",
     "traceback": [
      "\u001b[0;31m---------------------------------------------------------------------------\u001b[0m",
      "\u001b[0;31mKeyboardInterrupt\u001b[0m                         Traceback (most recent call last)",
      "Input \u001b[0;32mIn [72]\u001b[0m, in \u001b[0;36m<cell line: 1>\u001b[0;34m()\u001b[0m\n\u001b[0;32m----> 1\u001b[0m \u001b[43mcompute\u001b[49m\u001b[43m(\u001b[49m\u001b[43m)\u001b[49m\n",
      "File \u001b[0;32m~/work/_fall2022-code-examples-from-teachings/ses10/timer.py:6\u001b[0m, in \u001b[0;36mtimer.<locals>.wrapper\u001b[0;34m(*args)\u001b[0m\n\u001b[1;32m      4\u001b[0m \u001b[38;5;28;01mdef\u001b[39;00m \u001b[38;5;21mwrapper\u001b[39m(\u001b[38;5;241m*\u001b[39margs):\n\u001b[1;32m      5\u001b[0m     start \u001b[38;5;241m=\u001b[39m time\u001b[38;5;241m.\u001b[39mtime()\n\u001b[0;32m----> 6\u001b[0m     val \u001b[38;5;241m=\u001b[39m \u001b[43mfunc\u001b[49m\u001b[43m(\u001b[49m\u001b[38;5;241;43m*\u001b[39;49m\u001b[43margs\u001b[49m\u001b[43m)\u001b[49m\n\u001b[1;32m      7\u001b[0m     end \u001b[38;5;241m=\u001b[39m (time\u001b[38;5;241m.\u001b[39mtime()) \u001b[38;5;241m-\u001b[39m start\n\u001b[1;32m      8\u001b[0m     \u001b[38;5;28mprint\u001b[39m(\u001b[38;5;124mf\u001b[39m\u001b[38;5;124m'\u001b[39m\u001b[38;5;124mTime elepsed: \u001b[39m\u001b[38;5;132;01m{\u001b[39;00mend\u001b[38;5;132;01m}\u001b[39;00m\u001b[38;5;124m'\u001b[39m)\n",
      "Input \u001b[0;32mIn [71]\u001b[0m, in \u001b[0;36mcompute\u001b[0;34m()\u001b[0m\n\u001b[1;32m      3\u001b[0m li \u001b[38;5;241m=\u001b[39m []\n\u001b[1;32m      4\u001b[0m \u001b[38;5;28;01mfor\u001b[39;00m i \u001b[38;5;129;01min\u001b[39;00m \u001b[38;5;28mrange\u001b[39m(\u001b[38;5;241m1000000000000\u001b[39m):\n\u001b[0;32m----> 5\u001b[0m     \u001b[43mli\u001b[49m\u001b[38;5;241;43m.\u001b[39;49m\u001b[43mappend\u001b[49m\u001b[43m(\u001b[49m\u001b[43mi\u001b[49m\u001b[43m)\u001b[49m\n\u001b[1;32m      6\u001b[0m \u001b[38;5;28;01mreturn\u001b[39;00m li\n",
      "\u001b[0;31mKeyboardInterrupt\u001b[0m: "
     ]
    }
   ],
   "source": [
    "compute()"
   ]
  },
  {
   "cell_type": "code",
   "execution_count": 12,
   "id": "5136715a-37c9-44c9-a4b2-b86b60a6698b",
   "metadata": {},
   "outputs": [],
   "source": [
    "class Compute:\n",
    "    def __call__(self):\n",
    "        li = []\n",
    "        for i in range(10):\n",
    "            li.append(i)\n",
    "        return li"
   ]
  },
  {
   "cell_type": "code",
   "execution_count": 13,
   "id": "3931b7ac-e3c8-4e77-84a2-1b0a58d72239",
   "metadata": {},
   "outputs": [],
   "source": [
    "compute = Compute()"
   ]
  },
  {
   "cell_type": "code",
   "execution_count": 14,
   "id": "68ef88c4-5cd8-4b2b-9725-d40c59f3330b",
   "metadata": {},
   "outputs": [
    {
     "data": {
      "text/plain": [
       "[0, 1, 2, 3, 4, 5, 6, 7, 8, 9]"
      ]
     },
     "execution_count": 14,
     "metadata": {},
     "output_type": "execute_result"
    }
   ],
   "source": [
    "compute()"
   ]
  },
  {
   "cell_type": "markdown",
   "id": "cd0ffef9-9e45-4987-8ce4-8c22964527bd",
   "metadata": {
    "tags": []
   },
   "source": [
    "## Generators"
   ]
  },
  {
   "cell_type": "code",
   "execution_count": 15,
   "id": "d2abceff-61cf-41b2-803c-9a303e08f6cf",
   "metadata": {},
   "outputs": [],
   "source": [
    "from time import sleep"
   ]
  },
  {
   "cell_type": "code",
   "execution_count": 16,
   "id": "c452516a-8f8b-44b4-aef1-e3700aadc5c3",
   "metadata": {},
   "outputs": [],
   "source": [
    "def compute():\n",
    "    li = []\n",
    "    for i in range(10):\n",
    "        sleep(.5)\n",
    "        li.append(i)\n",
    "    return li"
   ]
  },
  {
   "cell_type": "code",
   "execution_count": 17,
   "id": "334b8f6f-e35e-4a1d-bce6-dc756e0093a3",
   "metadata": {},
   "outputs": [
    {
     "data": {
      "text/plain": [
       "[0, 1, 2, 3, 4, 5, 6, 7, 8, 9]"
      ]
     },
     "execution_count": 17,
     "metadata": {},
     "output_type": "execute_result"
    }
   ],
   "source": [
    "compute()"
   ]
  },
  {
   "cell_type": "code",
   "execution_count": 18,
   "id": "94a0350d-43e5-45cf-a7d3-d44169bb6049",
   "metadata": {},
   "outputs": [],
   "source": [
    "class Compute:\n",
    "    def __call__(self):\n",
    "        li = []\n",
    "        for i in range(10):\n",
    "            sleep(.5)\n",
    "            li.append(i)\n",
    "        return li"
   ]
  },
  {
   "cell_type": "code",
   "execution_count": 19,
   "id": "6b14d8c9-0d6f-4bad-852d-59107a75e3a5",
   "metadata": {},
   "outputs": [],
   "source": [
    "compute = Compute()"
   ]
  },
  {
   "cell_type": "code",
   "execution_count": 20,
   "id": "f68ad8dd-0efe-460e-b227-5bd3b39a8c0e",
   "metadata": {},
   "outputs": [
    {
     "data": {
      "text/plain": [
       "[0, 1, 2, 3, 4, 5, 6, 7, 8, 9]"
      ]
     },
     "execution_count": 20,
     "metadata": {},
     "output_type": "execute_result"
    }
   ],
   "source": [
    "compute()"
   ]
  },
  {
   "cell_type": "markdown",
   "id": "572ddd04-8e0b-4dcd-acc9-2cf28f0283a2",
   "metadata": {
    "tags": []
   },
   "source": [
    "### Iterator class"
   ]
  },
  {
   "cell_type": "code",
   "execution_count": 21,
   "id": "81aa6885-20c3-4b83-a05d-100ab158b145",
   "metadata": {},
   "outputs": [],
   "source": [
    "class Compute:\n",
    "    def __call__(self):\n",
    "        return iter(self)\n",
    "    \n",
    "    def __iter__(self):\n",
    "        self.last = 0\n",
    "        return self\n",
    "\n",
    "    def __next__(self):\n",
    "        if self.last > 9:\n",
    "            raise StopIteration\n",
    "        self.last += 1\n",
    "        return self.last"
   ]
  },
  {
   "cell_type": "code",
   "execution_count": 22,
   "id": "ecc5c89c-83c7-4cd6-960e-0da4504814a7",
   "metadata": {},
   "outputs": [],
   "source": [
    "compute = Compute()"
   ]
  },
  {
   "cell_type": "code",
   "execution_count": 27,
   "id": "bfab7977-1a11-43bb-a0d0-1c920f011fd3",
   "metadata": {},
   "outputs": [],
   "source": [
    "it = compute()"
   ]
  },
  {
   "cell_type": "code",
   "execution_count": 29,
   "id": "69d2cee3-24d4-45d9-86d9-112042c8dc7f",
   "metadata": {},
   "outputs": [
    {
     "data": {
      "text/plain": [
       "2"
      ]
     },
     "execution_count": 29,
     "metadata": {},
     "output_type": "execute_result"
    }
   ],
   "source": [
    "next(it)"
   ]
  },
  {
   "cell_type": "code",
   "execution_count": 30,
   "id": "a4a1a908-2c7f-47b1-a2d2-19d85c557056",
   "metadata": {},
   "outputs": [
    {
     "name": "stdout",
     "output_type": "stream",
     "text": [
      "1\n",
      "2\n",
      "3\n",
      "4\n",
      "5\n",
      "6\n",
      "7\n",
      "8\n",
      "9\n",
      "10\n"
     ]
    }
   ],
   "source": [
    "for i in compute:\n",
    "    print(i)"
   ]
  },
  {
   "cell_type": "markdown",
   "id": "5fc99b84-e026-4c52-bb36-6ea46f7f4cdb",
   "metadata": {},
   "source": [
    "### generator function"
   ]
  },
  {
   "cell_type": "code",
   "execution_count": 57,
   "id": "089c1ed4-6518-4568-8345-0eecbd43f913",
   "metadata": {},
   "outputs": [],
   "source": [
    "from timer import timer"
   ]
  },
  {
   "cell_type": "code",
   "execution_count": 73,
   "id": "9b4d87ea-5ed1-4ba6-bc97-5bf34c7ee2be",
   "metadata": {},
   "outputs": [],
   "source": [
    "@timer\n",
    "def compute():\n",
    "    for i in range(100):        \n",
    "        yield i"
   ]
  },
  {
   "cell_type": "code",
   "execution_count": 74,
   "id": "c230b26c-364f-4162-822b-ac63aa43f4e2",
   "metadata": {},
   "outputs": [
    {
     "name": "stdout",
     "output_type": "stream",
     "text": [
      "Time elepsed: 9.5367431640625e-07\n"
     ]
    }
   ],
   "source": [
    "it = compute()"
   ]
  },
  {
   "cell_type": "code",
   "execution_count": 75,
   "id": "0dfa2614-738c-4e18-834d-407d39f90759",
   "metadata": {},
   "outputs": [
    {
     "name": "stdout",
     "output_type": "stream",
     "text": [
      "Time elepsed: 7.152557373046875e-07\n",
      "0\n",
      "1\n",
      "2\n",
      "3\n",
      "4\n",
      "5\n",
      "6\n",
      "7\n",
      "8\n",
      "9\n",
      "10\n",
      "11\n",
      "12\n",
      "13\n",
      "14\n",
      "15\n",
      "16\n",
      "17\n",
      "18\n",
      "19\n",
      "20\n",
      "21\n",
      "22\n",
      "23\n",
      "24\n",
      "25\n",
      "26\n",
      "27\n",
      "28\n",
      "29\n",
      "30\n",
      "31\n",
      "32\n",
      "33\n",
      "34\n",
      "35\n",
      "36\n",
      "37\n",
      "38\n",
      "39\n",
      "40\n",
      "41\n",
      "42\n",
      "43\n",
      "44\n",
      "45\n",
      "46\n",
      "47\n",
      "48\n",
      "49\n",
      "50\n",
      "51\n",
      "52\n",
      "53\n",
      "54\n",
      "55\n",
      "56\n",
      "57\n",
      "58\n",
      "59\n",
      "60\n",
      "61\n",
      "62\n",
      "63\n",
      "64\n",
      "65\n",
      "66\n",
      "67\n",
      "68\n",
      "69\n",
      "70\n",
      "71\n",
      "72\n",
      "73\n",
      "74\n",
      "75\n",
      "76\n",
      "77\n",
      "78\n",
      "79\n",
      "80\n",
      "81\n",
      "82\n",
      "83\n",
      "84\n",
      "85\n",
      "86\n",
      "87\n",
      "88\n",
      "89\n",
      "90\n",
      "91\n",
      "92\n",
      "93\n",
      "94\n",
      "95\n",
      "96\n",
      "97\n",
      "98\n",
      "99\n"
     ]
    }
   ],
   "source": [
    "for i in compute():\n",
    "    print(i)"
   ]
  },
  {
   "cell_type": "code",
   "execution_count": 76,
   "id": "97cc4e52-8bd4-45fc-9f94-08cee63fdbeb",
   "metadata": {},
   "outputs": [
    {
     "name": "stdout",
     "output_type": "stream",
     "text": [
      "Time elepsed: 1.9073486328125e-06\n"
     ]
    },
    {
     "data": {
      "text/plain": [
       "<generator object compute at 0x7fd78a655150>"
      ]
     },
     "execution_count": 76,
     "metadata": {},
     "output_type": "execute_result"
    }
   ],
   "source": [
    "compute()"
   ]
  },
  {
   "cell_type": "markdown",
   "id": "a18e1b8c-2983-4421-9368-b2c4dcdfbebb",
   "metadata": {},
   "source": [
    "### Generator expression"
   ]
  },
  {
   "cell_type": "code",
   "execution_count": 77,
   "id": "ff7bf675-e1da-422b-ba27-0788b50a1b43",
   "metadata": {},
   "outputs": [],
   "source": [
    "@timer\n",
    "def genretaor():\n",
    "    return (i for i in range(10))"
   ]
  },
  {
   "cell_type": "code",
   "execution_count": 78,
   "id": "48c73b21-dc32-47f7-b5bc-7dbad8efa6b7",
   "metadata": {},
   "outputs": [
    {
     "name": "stdout",
     "output_type": "stream",
     "text": [
      "Time elepsed: 2.384185791015625e-06\n"
     ]
    },
    {
     "data": {
      "text/plain": [
       "<generator object genretaor.<locals>.<genexpr> at 0x7fd78a655230>"
      ]
     },
     "execution_count": 78,
     "metadata": {},
     "output_type": "execute_result"
    }
   ],
   "source": [
    "genretaor()"
   ]
  },
  {
   "cell_type": "markdown",
   "id": "264247e3-fb29-4529-8a27-a47cc94182dd",
   "metadata": {},
   "source": [
    "### for loop uses the iterator protocol"
   ]
  },
  {
   "cell_type": "code",
   "execution_count": null,
   "id": "a833d466-b5a8-452e-b17b-05c60aa5e18a",
   "metadata": {},
   "outputs": [],
   "source": []
  },
  {
   "cell_type": "markdown",
   "id": "3f26f5f1-d367-48c1-97eb-b8056595795d",
   "metadata": {},
   "source": [
    "# Students Øvelse"
   ]
  },
  {
   "cell_type": "code",
   "execution_count": 80,
   "id": "6b3d94fb-1727-43a3-b4ef-122abcca78e9",
   "metadata": {},
   "outputs": [],
   "source": [
    "class Student:\n",
    "\n",
    "    def __init__(self, name, cpr):\n",
    "        self.name = name\n",
    "        self.cpr = cpr\n",
    "\n",
    "    @property\n",
    "    def name(self):\n",
    "            return self.__name\n",
    "\n",
    "    @name.setter\n",
    "    def name(self, name):\n",
    "            self.__name = name.capitalize()\n",
    "\n",
    "    def __add__(self, student):\n",
    "            return Student('Anna the daugther', 1234)\n",
    "\n",
    "    def __str__(self):\n",
    "            return f'{self.name}, {self.cpr}'\n",
    "\n",
    "    def __repr__(self):\n",
    "            return f'{self.__dict__}'"
   ]
  },
  {
   "cell_type": "code",
   "execution_count": 110,
   "id": "e01e3441-5208-40f2-a1fd-c4a641203a45",
   "metadata": {},
   "outputs": [],
   "source": [
    "class PythonStudents:\n",
    "    \n",
    "    def __init__(self):\n",
    "        self.students = []\n",
    "\n",
    "    def __add__(self, student):\n",
    "        self.students.append(student)\n",
    "\n",
    "    def __iter__(self):\n",
    "        self.index = 0\n",
    "        return self\n",
    "\n",
    "    def __next__(self):\n",
    "        self.temp = self.index\n",
    "        self.index += 1\n",
    "        if self.index > len(self.students):\n",
    "            raise StopIteration()\n",
    "        return self.students[self.temp]"
   ]
  },
  {
   "cell_type": "code",
   "execution_count": 111,
   "id": "7e1e5d43-5d9e-45c8-bb80-c9ac00d70155",
   "metadata": {},
   "outputs": [],
   "source": [
    "students = PythonStudents()"
   ]
  },
  {
   "cell_type": "code",
   "execution_count": 112,
   "id": "48536dd9-429f-4826-9e50-74cee40e759c",
   "metadata": {},
   "outputs": [],
   "source": [
    "students + Student('Claus', 1234)"
   ]
  },
  {
   "cell_type": "code",
   "execution_count": 113,
   "id": "83b15386-d79d-437f-a409-00abbcdb5f36",
   "metadata": {},
   "outputs": [],
   "source": [
    "students + Student('Anna', 1234)"
   ]
  },
  {
   "cell_type": "code",
   "execution_count": 114,
   "id": "03e6c5ff-aea2-433c-ad06-4b32af3e3b4b",
   "metadata": {},
   "outputs": [],
   "source": [
    "it = iter(students)"
   ]
  },
  {
   "cell_type": "code",
   "execution_count": 117,
   "id": "0314d3ce-7e9d-411c-8aac-e61416ced07d",
   "metadata": {},
   "outputs": [
    {
     "ename": "StopIteration",
     "evalue": "",
     "output_type": "error",
     "traceback": [
      "\u001b[0;31m---------------------------------------------------------------------------\u001b[0m",
      "\u001b[0;31mStopIteration\u001b[0m                             Traceback (most recent call last)",
      "Input \u001b[0;32mIn [117]\u001b[0m, in \u001b[0;36m<cell line: 1>\u001b[0;34m()\u001b[0m\n\u001b[0;32m----> 1\u001b[0m \u001b[38;5;28;43mnext\u001b[39;49m\u001b[43m(\u001b[49m\u001b[43mit\u001b[49m\u001b[43m)\u001b[49m\n",
      "Input \u001b[0;32mIn [110]\u001b[0m, in \u001b[0;36mPythonStudents.__next__\u001b[0;34m(self)\u001b[0m\n\u001b[1;32m     15\u001b[0m \u001b[38;5;28mself\u001b[39m\u001b[38;5;241m.\u001b[39mindex \u001b[38;5;241m+\u001b[39m\u001b[38;5;241m=\u001b[39m \u001b[38;5;241m1\u001b[39m\n\u001b[1;32m     16\u001b[0m \u001b[38;5;28;01mif\u001b[39;00m \u001b[38;5;28mself\u001b[39m\u001b[38;5;241m.\u001b[39mindex \u001b[38;5;241m>\u001b[39m \u001b[38;5;28mlen\u001b[39m(\u001b[38;5;28mself\u001b[39m\u001b[38;5;241m.\u001b[39mstudents):\n\u001b[0;32m---> 17\u001b[0m     \u001b[38;5;28;01mraise\u001b[39;00m \u001b[38;5;167;01mStopIteration\u001b[39;00m()\n\u001b[1;32m     18\u001b[0m \u001b[38;5;28;01mreturn\u001b[39;00m \u001b[38;5;28mself\u001b[39m\u001b[38;5;241m.\u001b[39mstudents[\u001b[38;5;28mself\u001b[39m\u001b[38;5;241m.\u001b[39mtemp]\n",
      "\u001b[0;31mStopIteration\u001b[0m: "
     ]
    }
   ],
   "source": [
    "next(it)"
   ]
  },
  {
   "cell_type": "code",
   "execution_count": null,
   "id": "01cd4c52-3af6-4baa-a2c9-6ac80265583e",
   "metadata": {},
   "outputs": [],
   "source": []
  }
 ],
 "metadata": {
  "kernelspec": {
   "display_name": "Python 3 (ipykernel)",
   "language": "python",
   "name": "python3"
  },
  "language_info": {
   "codemirror_mode": {
    "name": "ipython",
    "version": 3
   },
   "file_extension": ".py",
   "mimetype": "text/x-python",
   "name": "python",
   "nbconvert_exporter": "python",
   "pygments_lexer": "ipython3",
   "version": "3.10.5"
  }
 },
 "nbformat": 4,
 "nbformat_minor": 5
}
