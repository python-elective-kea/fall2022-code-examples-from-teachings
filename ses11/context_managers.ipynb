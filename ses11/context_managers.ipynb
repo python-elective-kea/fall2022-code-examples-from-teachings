{
 "cells": [
  {
   "cell_type": "raw",
   "id": "917588bd-118c-4406-a3ef-daaa4dd4920d",
   "metadata": {},
   "source": [
    "# Coroutines"
   ]
  },
  {
   "cell_type": "markdown",
   "id": "13f5db8f-8e45-4c91-9c2d-8edd43ba4aec",
   "metadata": {},
   "source": [
    "## Routine/subroutine pattern"
   ]
  },
  {
   "cell_type": "code",
   "execution_count": 3,
   "id": "2b5c7da9-7a85-40af-a588-0f763db19170",
   "metadata": {},
   "outputs": [],
   "source": [
    "class Api:\n",
    "    def do_this_first(self):\n",
    "        return 'from 1. method'\n",
    "    def do_this_second(self):\n",
    "        return 'from 2. method'\n",
    "    def do_this_third(self):\n",
    "        return 'from 3. method'"
   ]
  },
  {
   "cell_type": "code",
   "execution_count": null,
   "id": "14be5d4d-6881-49f5-8546-08d2da373b18",
   "metadata": {},
   "outputs": [],
   "source": []
  },
  {
   "cell_type": "markdown",
   "id": "c687aaf5-cc98-4800-a683-defa11a226c0",
   "metadata": {},
   "source": [
    "## Coroutine pattern"
   ]
  },
  {
   "cell_type": "code",
   "execution_count": null,
   "id": "79bfa919-e677-4751-b254-0798fcf81954",
   "metadata": {},
   "outputs": [],
   "source": []
  },
  {
   "cell_type": "markdown",
   "id": "f027ca16-ee60-444f-a476-6aab42530680",
   "metadata": {},
   "source": [
    "# Context Managers"
   ]
  },
  {
   "cell_type": "code",
   "execution_count": 11,
   "id": "0e2b5014-be3d-4186-b0e7-f60ab97d4870",
   "metadata": {},
   "outputs": [
    {
     "name": "stdout",
     "output_type": "stream",
     "text": [
      "An expert is a person who has made all the mistakes that can be made in a very narrow field.\n",
      "\n"
     ]
    }
   ],
   "source": [
    "f = open('testfiles/bohr.txt')\n",
    "print(f.readline())"
   ]
  },
  {
   "cell_type": "code",
   "execution_count": null,
   "id": "fa0eefef-7228-4384-92c5-f18ebd6d1623",
   "metadata": {},
   "outputs": [],
   "source": []
  }
 ],
 "metadata": {
  "kernelspec": {
   "display_name": "Python 3 (ipykernel)",
   "language": "python",
   "name": "python3"
  },
  "language_info": {
   "codemirror_mode": {
    "name": "ipython",
    "version": 3
   },
   "file_extension": ".py",
   "mimetype": "text/x-python",
   "name": "python",
   "nbconvert_exporter": "python",
   "pygments_lexer": "ipython3",
   "version": "3.10.5"
  }
 },
 "nbformat": 4,
 "nbformat_minor": 5
}
