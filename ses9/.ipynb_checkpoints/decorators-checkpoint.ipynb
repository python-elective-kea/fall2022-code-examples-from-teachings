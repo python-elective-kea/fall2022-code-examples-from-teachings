{
 "cells": [
  {
   "cell_type": "markdown",
   "id": "cd3d8d81-6199-4da6-b2e9-09da87777eef",
   "metadata": {},
   "source": [
    "# Decorators"
   ]
  },
  {
   "cell_type": "markdown",
   "id": "8aeddf1c-5091-4f45-9d07-7eb37682f520",
   "metadata": {
    "tags": []
   },
   "source": [
    "## Properties"
   ]
  },
  {
   "cell_type": "code",
   "execution_count": 9,
   "id": "89f0c967-9399-45d5-b232-ab80dd7bb1f7",
   "metadata": {},
   "outputs": [],
   "source": [
    "class Game:\n",
    "    def __init__(self, *args):\n",
    "        self.title = args[0]\n",
    "    \n",
    "    def get_title(self):\n",
    "        return self.__title\n",
    "    \n",
    "    def set_title(self, title):\n",
    "        if type(title) == str:\n",
    "            self.__title = title\n",
    "        else:\n",
    "            raise TypeError('title attribute must be a string')\n",
    "            \n",
    "    # create a title property using the build in function porperty\n",
    "    title = property(get_title, set_title)"
   ]
  },
  {
   "cell_type": "code",
   "execution_count": 11,
   "id": "610e5b48-3076-4630-82cf-fdb7e6af9d96",
   "metadata": {},
   "outputs": [],
   "source": [
    "g = Game('GTA5')"
   ]
  },
  {
   "cell_type": "code",
   "execution_count": 12,
   "id": "a1bbb70a-2da6-4796-a1d9-241567fba21d",
   "metadata": {},
   "outputs": [
    {
     "data": {
      "text/plain": [
       "'GTA5'"
      ]
     },
     "execution_count": 12,
     "metadata": {},
     "output_type": "execute_result"
    }
   ],
   "source": [
    "g.title"
   ]
  },
  {
   "cell_type": "markdown",
   "id": "d4a01be8-5b96-4d06-a5ff-a26f1fd020c6",
   "metadata": {},
   "source": [
    "**Or we can use sytactic sugar (nice to read)**"
   ]
  },
  {
   "cell_type": "code",
   "execution_count": 18,
   "id": "20b570cd-bf71-4141-8a9d-aac1b6e722cc",
   "metadata": {},
   "outputs": [],
   "source": [
    "class Game:\n",
    "    def __init__(self, *args):\n",
    "        self.title = args[0]\n",
    "    \n",
    "    @property   \n",
    "    def title(self):\n",
    "        return self.__title\n",
    "    \n",
    "    @title.setter\n",
    "    def title(self, title):\n",
    "        if type(title) == str:\n",
    "            self.__title = title\n",
    "        else:\n",
    "            raise TypeError('title attribute must be a string')"
   ]
  },
  {
   "cell_type": "code",
   "execution_count": 19,
   "id": "bf0961f8-bfc6-4a0e-947c-522310a259a1",
   "metadata": {},
   "outputs": [],
   "source": [
    "g = Game('FIFA22')"
   ]
  },
  {
   "cell_type": "code",
   "execution_count": 20,
   "id": "5b25f420-1c5a-44f4-b37f-d059b9ee337f",
   "metadata": {},
   "outputs": [
    {
     "data": {
      "text/plain": [
       "'FIFA22'"
      ]
     },
     "execution_count": 20,
     "metadata": {},
     "output_type": "execute_result"
    }
   ],
   "source": [
    "g.title"
   ]
  },
  {
   "cell_type": "code",
   "execution_count": null,
   "id": "3404b7bf-3cf1-436d-8e44-7b6edba161ec",
   "metadata": {},
   "outputs": [],
   "source": []
  }
 ],
 "metadata": {
  "kernelspec": {
   "display_name": "Python 3 (ipykernel)",
   "language": "python",
   "name": "python3"
  },
  "language_info": {
   "codemirror_mode": {
    "name": "ipython",
    "version": 3
   },
   "file_extension": ".py",
   "mimetype": "text/x-python",
   "name": "python",
   "nbconvert_exporter": "python",
   "pygments_lexer": "ipython3",
   "version": "3.10.5"
  }
 },
 "nbformat": 4,
 "nbformat_minor": 5
}
