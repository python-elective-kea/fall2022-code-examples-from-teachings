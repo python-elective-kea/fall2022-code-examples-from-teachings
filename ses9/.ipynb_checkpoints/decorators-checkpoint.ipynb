{
 "cells": [
  {
   "cell_type": "markdown",
   "id": "cd3d8d81-6199-4da6-b2e9-09da87777eef",
   "metadata": {},
   "source": [
    "# Decorators"
   ]
  },
  {
   "cell_type": "markdown",
   "id": "8aeddf1c-5091-4f45-9d07-7eb37682f520",
   "metadata": {
    "tags": []
   },
   "source": [
    "## Properties"
   ]
  },
  {
   "cell_type": "markdown",
   "id": "0c8cafde-1a6f-4ec8-b3a1-65d75bb7e79f",
   "metadata": {},
   "source": [
    "**When we worked with properties 2 sessions ago we worked with decorators**"
   ]
  },
  {
   "cell_type": "code",
   "execution_count": 43,
   "id": "89f0c967-9399-45d5-b232-ab80dd7bb1f7",
   "metadata": {},
   "outputs": [],
   "source": [
    "class Game:\n",
    "    def __init__(self, *args):\n",
    "        self.title = args[0]\n",
    "    \n",
    "    def get_title(self):\n",
    "        return self.__title\n",
    "    \n",
    "    def set_title(self, title):\n",
    "        if type(title) == str:\n",
    "            self.__title = title\n",
    "        else:\n",
    "            raise TypeError('title attribute must be a string')\n",
    "            \n",
    "    # create a title property using the build in function porperty\n",
    "    title = property(get_title, set_title)"
   ]
  },
  {
   "cell_type": "code",
   "execution_count": 11,
   "id": "610e5b48-3076-4630-82cf-fdb7e6af9d96",
   "metadata": {},
   "outputs": [],
   "source": [
    "g = Game('GTA5')"
   ]
  },
  {
   "cell_type": "code",
   "execution_count": 46,
   "id": "a1bbb70a-2da6-4796-a1d9-241567fba21d",
   "metadata": {},
   "outputs": [
    {
     "data": {
      "text/plain": [
       "'FIFA22'"
      ]
     },
     "execution_count": 46,
     "metadata": {},
     "output_type": "execute_result"
    }
   ],
   "source": [
    "g.title"
   ]
  },
  {
   "cell_type": "markdown",
   "id": "d4a01be8-5b96-4d06-a5ff-a26f1fd020c6",
   "metadata": {},
   "source": [
    "**Or we can use sytactic sugar (nice to read)**"
   ]
  },
  {
   "cell_type": "code",
   "execution_count": 18,
   "id": "20b570cd-bf71-4141-8a9d-aac1b6e722cc",
   "metadata": {},
   "outputs": [],
   "source": [
    "class Game:\n",
    "    def __init__(self, *args):\n",
    "        self.title = args[0]\n",
    "    \n",
    "    @property   \n",
    "    def title(self):\n",
    "        return self.__title\n",
    "    \n",
    "    @title.setter\n",
    "    def title(self, title):\n",
    "        if type(title) == str:\n",
    "            self.__title = title\n",
    "        else:\n",
    "            raise TypeError('title attribute must be a string')\n",
    "            \n",
    "            \n",
    "     # create a title property using the build in function porperty\n",
    "    # title = property(get_title, set_title)"
   ]
  },
  {
   "cell_type": "code",
   "execution_count": 19,
   "id": "bf0961f8-bfc6-4a0e-947c-522310a259a1",
   "metadata": {},
   "outputs": [],
   "source": [
    "g = Game('FIFA22')"
   ]
  },
  {
   "cell_type": "code",
   "execution_count": 20,
   "id": "5b25f420-1c5a-44f4-b37f-d059b9ee337f",
   "metadata": {},
   "outputs": [
    {
     "data": {
      "text/plain": [
       "'FIFA22'"
      ]
     },
     "execution_count": 20,
     "metadata": {},
     "output_type": "execute_result"
    }
   ],
   "source": [
    "g.title"
   ]
  },
  {
   "cell_type": "markdown",
   "id": "75e1f870-71f1-4894-85ea-3eaff712125b",
   "metadata": {},
   "source": [
    "So the build in function **property** is a decorator function."
   ]
  },
  {
   "cell_type": "markdown",
   "id": "3f58caa1-bf6c-4485-92d5-d740798d281c",
   "metadata": {},
   "source": [
    "## 1. Fist class functions"
   ]
  },
  {
   "cell_type": "code",
   "execution_count": 59,
   "id": "2eb1a1a4-ae82-4040-a3d8-8acaba706a83",
   "metadata": {},
   "outputs": [
    {
     "name": "stdout",
     "output_type": "stream",
     "text": [
      "3\n"
     ]
    },
    {
     "data": {
      "text/plain": [
       "<function len(obj, /)>"
      ]
     },
     "execution_count": 59,
     "metadata": {},
     "output_type": "execute_result"
    }
   ],
   "source": [
    "# funktioner i python kan tage andre funktioner som paramter -> func(func2)\n",
    "\n",
    "def my_first_function(x):\n",
    "    return x\n",
    "\n",
    "my_first_function(len)\n"
   ]
  },
  {
   "cell_type": "markdown",
   "id": "71668022-ed58-49e9-b48a-514cb2d270b3",
   "metadata": {},
   "source": [
    "## 2. Inner fundtions"
   ]
  },
  {
   "cell_type": "code",
   "execution_count": 80,
   "id": "9f8dbf77-8b0d-47bd-b593-991a42367a7b",
   "metadata": {},
   "outputs": [
    {
     "name": "stdout",
     "output_type": "stream",
     "text": [
      "Hello from inner\n"
     ]
    },
    {
     "data": {
      "text/plain": [
       "'IIINNNER'"
      ]
     },
     "execution_count": 80,
     "metadata": {},
     "output_type": "execute_result"
    }
   ],
   "source": [
    "def foo():\n",
    "    \n",
    "    def inner():\n",
    "        print('Hello from inner')\n",
    "        \n",
    "        def innerinner():\n",
    "            return 'IIINNNER'\n",
    "        \n",
    "        return innerinner\n",
    "        \n",
    "        \n",
    "    def inner2():\n",
    "        return 'Hello'\n",
    "    \n",
    "        \n",
    "    return (inner, inner2)\n",
    "        \n",
    "    \n",
    "x = foo()\n",
    "x[0]()()"
   ]
  },
  {
   "cell_type": "markdown",
   "id": "bcccd81c-92eb-4293-a64b-d671458d910c",
   "metadata": {},
   "source": [
    "## 3. Decorator functions "
   ]
  },
  {
   "cell_type": "code",
   "execution_count": 83,
   "id": "ee9da387-25ef-4caa-8cd5-6f69f6410bd1",
   "metadata": {},
   "outputs": [],
   "source": [
    "def my_decorator(x):\n",
    "    \n",
    "    def inner():\n",
    "        print('Before function is called')\n",
    "        x()\n",
    "        print('After function is called')\n",
    "        \n",
    "    return inner"
   ]
  },
  {
   "cell_type": "code",
   "execution_count": 92,
   "id": "9db80379-2923-4719-87a1-e01987fa2e86",
   "metadata": {},
   "outputs": [],
   "source": [
    "def dec2(func):\n",
    "    def inner():\n",
    "        print('fra inner dec2')\n",
    "        func()\n",
    "        \n",
    "    return inner"
   ]
  },
  {
   "cell_type": "code",
   "execution_count": 96,
   "id": "de778d3d-bdde-48ee-ab09-51d534be8bcf",
   "metadata": {},
   "outputs": [],
   "source": [
    "@my_decorator\n",
    "def greet():\n",
    "    print('Hello')"
   ]
  },
  {
   "cell_type": "code",
   "execution_count": 97,
   "id": "cf701a30-17b3-4024-8278-1f90ba91c743",
   "metadata": {},
   "outputs": [],
   "source": [
    "#greet = my_decorator(greet)"
   ]
  },
  {
   "cell_type": "code",
   "execution_count": 98,
   "id": "32e324d0-5901-4a16-9b6a-6d9c4de61b54",
   "metadata": {},
   "outputs": [
    {
     "name": "stdout",
     "output_type": "stream",
     "text": [
      "Before function is called\n",
      "Hello\n",
      "After function is called\n"
     ]
    }
   ],
   "source": [
    "greet()"
   ]
  },
  {
   "cell_type": "code",
   "execution_count": 86,
   "id": "167f9878-fbbe-459e-bcd0-985f904eb69e",
   "metadata": {},
   "outputs": [],
   "source": []
  },
  {
   "cell_type": "code",
   "execution_count": 87,
   "id": "7d6c82dd-64cf-46d5-9733-55b0b14820a7",
   "metadata": {},
   "outputs": [
    {
     "ename": "TypeError",
     "evalue": "'int' object is not callable",
     "output_type": "error",
     "traceback": [
      "\u001b[0;31m---------------------------------------------------------------------------\u001b[0m",
      "\u001b[0;31mTypeError\u001b[0m                                 Traceback (most recent call last)",
      "Input \u001b[0;32mIn [87]\u001b[0m, in \u001b[0;36m<cell line: 1>\u001b[0;34m()\u001b[0m\n\u001b[0;32m----> 1\u001b[0m \u001b[38;5;28;43mlen\u001b[39;49m\u001b[43m(\u001b[49m\u001b[38;5;124;43m'\u001b[39;49m\u001b[38;5;124;43mHello\u001b[39;49m\u001b[38;5;124;43m'\u001b[39;49m\u001b[43m)\u001b[49m\n",
      "\u001b[0;31mTypeError\u001b[0m: 'int' object is not callable"
     ]
    }
   ],
   "source": []
  },
  {
   "cell_type": "code",
   "execution_count": null,
   "id": "9e11465c-4a30-467f-a8fb-63730f3c8dbc",
   "metadata": {},
   "outputs": [],
   "source": []
  }
 ],
 "metadata": {
  "kernelspec": {
   "display_name": "Python 3 (ipykernel)",
   "language": "python",
   "name": "python3"
  },
  "language_info": {
   "codemirror_mode": {
    "name": "ipython",
    "version": 3
   },
   "file_extension": ".py",
   "mimetype": "text/x-python",
   "name": "python",
   "nbconvert_exporter": "python",
   "pygments_lexer": "ipython3",
   "version": "3.10.5"
  }
 },
 "nbformat": 4,
 "nbformat_minor": 5
}
