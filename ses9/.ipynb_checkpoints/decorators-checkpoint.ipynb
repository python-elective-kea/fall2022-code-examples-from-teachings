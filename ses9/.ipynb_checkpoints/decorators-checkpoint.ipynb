{
 "cells": [
  {
   "cell_type": "markdown",
   "id": "cd3d8d81-6199-4da6-b2e9-09da87777eef",
   "metadata": {},
   "source": [
    "# Decorators"
   ]
  },
  {
   "cell_type": "markdown",
   "id": "8aeddf1c-5091-4f45-9d07-7eb37682f520",
   "metadata": {
    "tags": []
   },
   "source": [
    "## Properties"
   ]
  },
  {
   "cell_type": "markdown",
   "id": "0c8cafde-1a6f-4ec8-b3a1-65d75bb7e79f",
   "metadata": {},
   "source": [
    "**When we worked with properties 2 sessions ago we worked with decorators**"
   ]
  },
  {
   "cell_type": "code",
   "execution_count": 28,
   "id": "89f0c967-9399-45d5-b232-ab80dd7bb1f7",
   "metadata": {},
   "outputs": [],
   "source": [
    "class Game:\n",
    "    def __init__(self, *args):\n",
    "        self.title = args[0]\n",
    "    \n",
    "    def get_title(self):\n",
    "        return self.__title\n",
    "    \n",
    "    def set_title(self, title):\n",
    "        if type(title) == str:\n",
    "            self.__title = title\n",
    "        else:\n",
    "            raise TypeError('title attribute must be a string')\n",
    "            \n",
    "    # create a title property using the build in function porperty\n",
    "    title = property(get_title, set_title)"
   ]
  },
  {
   "cell_type": "code",
   "execution_count": 29,
   "id": "610e5b48-3076-4630-82cf-fdb7e6af9d96",
   "metadata": {},
   "outputs": [],
   "source": [
    "g = Game('GTA5')"
   ]
  },
  {
   "cell_type": "code",
   "execution_count": 30,
   "id": "a1bbb70a-2da6-4796-a1d9-241567fba21d",
   "metadata": {},
   "outputs": [
    {
     "data": {
      "text/plain": [
       "'GTA5'"
      ]
     },
     "execution_count": 30,
     "metadata": {},
     "output_type": "execute_result"
    }
   ],
   "source": [
    "g.title"
   ]
  },
  {
   "cell_type": "markdown",
   "id": "d4a01be8-5b96-4d06-a5ff-a26f1fd020c6",
   "metadata": {},
   "source": [
    "**Or we can use sytactic sugar (nice to read)**"
   ]
  },
  {
   "cell_type": "code",
   "execution_count": 31,
   "id": "20b570cd-bf71-4141-8a9d-aac1b6e722cc",
   "metadata": {},
   "outputs": [],
   "source": [
    "class Game:\n",
    "    def __init__(self, *args):\n",
    "        self.title = args[0]\n",
    "    \n",
    "    @property   \n",
    "    def title(self):\n",
    "        return self.__title\n",
    "    \n",
    "    @title.setter\n",
    "    def title(self, title):\n",
    "        if type(title) == str:\n",
    "            self.__title = title\n",
    "        else:\n",
    "            raise TypeError('title attribute must be a string')\n",
    "            \n",
    "            \n",
    "     # create a title property using the build in function porperty\n",
    "    # title = property(get_title, set_title)"
   ]
  },
  {
   "cell_type": "code",
   "execution_count": 32,
   "id": "bf0961f8-bfc6-4a0e-947c-522310a259a1",
   "metadata": {},
   "outputs": [],
   "source": [
    "g = Game('FIFA22')"
   ]
  },
  {
   "cell_type": "code",
   "execution_count": 33,
   "id": "5b25f420-1c5a-44f4-b37f-d059b9ee337f",
   "metadata": {},
   "outputs": [
    {
     "data": {
      "text/plain": [
       "'FIFA22'"
      ]
     },
     "execution_count": 33,
     "metadata": {},
     "output_type": "execute_result"
    }
   ],
   "source": [
    "g.title"
   ]
  },
  {
   "cell_type": "markdown",
   "id": "75e1f870-71f1-4894-85ea-3eaff712125b",
   "metadata": {},
   "source": [
    "So the build in function **property** is a decorator function."
   ]
  },
  {
   "cell_type": "markdown",
   "id": "3f58caa1-bf6c-4485-92d5-d740798d281c",
   "metadata": {},
   "source": [
    "## 1. Fist class functions"
   ]
  },
  {
   "cell_type": "code",
   "execution_count": 34,
   "id": "2eb1a1a4-ae82-4040-a3d8-8acaba706a83",
   "metadata": {},
   "outputs": [
    {
     "data": {
      "text/plain": [
       "<function len(obj, /)>"
      ]
     },
     "execution_count": 34,
     "metadata": {},
     "output_type": "execute_result"
    }
   ],
   "source": [
    "# funktioner i python kan tage andre funktioner som paramter -> func(func2)\n",
    "\n",
    "def my_first_function(x):\n",
    "    return x\n",
    "\n",
    "my_first_function(len)\n"
   ]
  },
  {
   "cell_type": "markdown",
   "id": "71668022-ed58-49e9-b48a-514cb2d270b3",
   "metadata": {},
   "source": [
    "## 2. Inner fundtions"
   ]
  },
  {
   "cell_type": "code",
   "execution_count": 35,
   "id": "9f8dbf77-8b0d-47bd-b593-991a42367a7b",
   "metadata": {},
   "outputs": [
    {
     "name": "stdout",
     "output_type": "stream",
     "text": [
      "Hello from inner\n"
     ]
    },
    {
     "data": {
      "text/plain": [
       "'IIINNNER'"
      ]
     },
     "execution_count": 35,
     "metadata": {},
     "output_type": "execute_result"
    }
   ],
   "source": [
    "def foo():\n",
    "    \n",
    "    def inner():\n",
    "        print('Hello from inner')\n",
    "        \n",
    "        def innerinner():\n",
    "            return 'IIINNNER'\n",
    "        \n",
    "        return innerinner\n",
    "        \n",
    "        \n",
    "    def inner2():\n",
    "        return 'Hello'\n",
    "    \n",
    "        \n",
    "    return (inner, inner2)\n",
    "        \n",
    "    \n",
    "x = foo()\n",
    "x[0]()()"
   ]
  },
  {
   "cell_type": "markdown",
   "id": "bcccd81c-92eb-4293-a64b-d671458d910c",
   "metadata": {},
   "source": [
    "## 3. Decorator functions "
   ]
  },
  {
   "cell_type": "code",
   "execution_count": 36,
   "id": "ee9da387-25ef-4caa-8cd5-6f69f6410bd1",
   "metadata": {},
   "outputs": [],
   "source": [
    "def my_decorator(x):\n",
    "    \n",
    "    def inner():\n",
    "        print('Before function is called')\n",
    "        x()\n",
    "        print('After function is called')\n",
    "        \n",
    "    return inner"
   ]
  },
  {
   "cell_type": "code",
   "execution_count": 37,
   "id": "de778d3d-bdde-48ee-ab09-51d534be8bcf",
   "metadata": {},
   "outputs": [],
   "source": [
    "@my_decorator\n",
    "def greet():\n",
    "    print('Hello')"
   ]
  },
  {
   "cell_type": "code",
   "execution_count": 38,
   "id": "cf701a30-17b3-4024-8278-1f90ba91c743",
   "metadata": {},
   "outputs": [],
   "source": [
    "#greet = my_decorator(greet)"
   ]
  },
  {
   "cell_type": "code",
   "execution_count": 39,
   "id": "32e324d0-5901-4a16-9b6a-6d9c4de61b54",
   "metadata": {},
   "outputs": [
    {
     "name": "stdout",
     "output_type": "stream",
     "text": [
      "Before function is called\n",
      "Hello\n",
      "After function is called\n"
     ]
    }
   ],
   "source": [
    "greet()"
   ]
  },
  {
   "cell_type": "markdown",
   "id": "50433307-1e4c-4456-96b2-44b222c5cc97",
   "metadata": {},
   "source": [
    "# Decorators with argumets"
   ]
  },
  {
   "cell_type": "code",
   "execution_count": 40,
   "id": "7d6c82dd-64cf-46d5-9733-55b0b14820a7",
   "metadata": {},
   "outputs": [],
   "source": [
    "def my_decorator(x):\n",
    "    \n",
    "    def inner(*args):\n",
    "        print('Before function is called')\n",
    "        x(*args)\n",
    "        print('After function is called')\n",
    "        \n",
    "    return inner"
   ]
  },
  {
   "cell_type": "code",
   "execution_count": 41,
   "id": "9e11465c-4a30-467f-a8fb-63730f3c8dbc",
   "metadata": {},
   "outputs": [],
   "source": [
    "@my_decorator\n",
    "def greet(name):\n",
    "    print(f'Hello {name}')"
   ]
  },
  {
   "cell_type": "code",
   "execution_count": 42,
   "id": "df704c93-0a2d-4520-bf0f-50b989137fed",
   "metadata": {},
   "outputs": [
    {
     "name": "stdout",
     "output_type": "stream",
     "text": [
      "Before function is called\n",
      "Hello Claus\n",
      "After function is called\n"
     ]
    }
   ],
   "source": [
    "greet('Claus')"
   ]
  },
  {
   "cell_type": "code",
   "execution_count": 43,
   "id": "d9b90945-592e-4842-ba3f-1942419c5c0a",
   "metadata": {},
   "outputs": [],
   "source": [
    "@my_decorator\n",
    "def greet():\n",
    "    print('Hello')"
   ]
  },
  {
   "cell_type": "code",
   "execution_count": 44,
   "id": "e05bb228-2985-40de-ae06-1b8540d67c90",
   "metadata": {},
   "outputs": [
    {
     "name": "stdout",
     "output_type": "stream",
     "text": [
      "Before function is called\n",
      "Hello\n",
      "After function is called\n"
     ]
    }
   ],
   "source": [
    "greet()"
   ]
  },
  {
   "cell_type": "code",
   "execution_count": 45,
   "id": "e5cf8587-c2b6-4353-b994-b2d18628b12f",
   "metadata": {},
   "outputs": [],
   "source": [
    "@my_decorator\n",
    "def greet(name, age):\n",
    "    print(f'Hello {name}')"
   ]
  },
  {
   "cell_type": "code",
   "execution_count": 46,
   "id": "4d975ddd-5cfc-4d14-b20f-59ff78d25550",
   "metadata": {},
   "outputs": [
    {
     "name": "stdout",
     "output_type": "stream",
     "text": [
      "Before function is called\n",
      "Hello Claus\n",
      "After function is called\n"
     ]
    }
   ],
   "source": [
    "greet('Claus', 12)"
   ]
  },
  {
   "cell_type": "code",
   "execution_count": 47,
   "id": "a398c361-fdcd-4642-b88c-b15c25d10933",
   "metadata": {},
   "outputs": [],
   "source": [
    "def my_dec(func):\n",
    "    \n",
    "    def inner(*args, **kwargs):\n",
    "        x = 'Hello from Inner '\n",
    "        x += str(func(*args))\n",
    "        x += 'GOODBYE'\n",
    "        return x\n",
    "    \n",
    "    return inner"
   ]
  },
  {
   "cell_type": "code",
   "execution_count": 48,
   "id": "7297c04d-56f6-4964-b76e-afdbfe5c6df4",
   "metadata": {},
   "outputs": [],
   "source": [
    "@my_dec\n",
    "def greet2(*args):\n",
    "    print(f'Hello from {args[0]}')"
   ]
  },
  {
   "cell_type": "code",
   "execution_count": 49,
   "id": "12235b6c-1808-4bf2-8f0b-f0c2bd4651da",
   "metadata": {},
   "outputs": [
    {
     "name": "stdout",
     "output_type": "stream",
     "text": [
      "Hello from Claus\n"
     ]
    },
    {
     "data": {
      "text/plain": [
       "'Hello from Inner NoneGOODBYE'"
      ]
     },
     "execution_count": 49,
     "metadata": {},
     "output_type": "execute_result"
    }
   ],
   "source": [
    "greet2('Claus')"
   ]
  },
  {
   "cell_type": "markdown",
   "id": "03d232e2-2a95-4804-ae8d-89c18f09de87",
   "metadata": {},
   "source": [
    "# Add"
   ]
  },
  {
   "cell_type": "code",
   "execution_count": 86,
   "id": "7e4e1176-01ea-4848-b53e-1f39b1b305a8",
   "metadata": {},
   "outputs": [],
   "source": [
    "from datetime import datetime\n",
    "\n",
    "\n",
    "def log(func):\n",
    "    def inner(*args):\n",
    "        f = open('logfile.txt', 'a+')\n",
    "        f.write(f'{datetime.now()}, {args}, {func(*args)} \\n')\n",
    "        f.close()\n",
    "        return func(*args)\n",
    "    return inner"
   ]
  },
  {
   "cell_type": "code",
   "execution_count": 87,
   "id": "0db07348-d627-4184-a6fa-661129fb0cfc",
   "metadata": {},
   "outputs": [
    {
     "name": "stdout",
     "output_type": "stream",
     "text": [
      "From outer\n"
     ]
    }
   ],
   "source": [
    "@log\n",
    "def add(*args):\n",
    "    sum = 0\n",
    "    for i in args:\n",
    "        sum += i\n",
    "    return sum"
   ]
  },
  {
   "cell_type": "code",
   "execution_count": 88,
   "id": "6300aa2b-2538-43f5-89d1-05dbdfb3677d",
   "metadata": {},
   "outputs": [
    {
     "data": {
      "text/plain": [
       "45681"
      ]
     },
     "execution_count": 88,
     "metadata": {},
     "output_type": "execute_result"
    }
   ],
   "source": [
    "add(1, 2, 45678)"
   ]
  },
  {
   "cell_type": "code",
   "execution_count": 84,
   "id": "20e4d834-925f-4d89-9c36-55b55a92af4d",
   "metadata": {},
   "outputs": [],
   "source": [
    "@log\n",
    "def printer(txt):\n",
    "    return txt"
   ]
  },
  {
   "cell_type": "code",
   "execution_count": 85,
   "id": "1418fcfd-c266-4c8f-9c31-86960d002e5e",
   "metadata": {},
   "outputs": [
    {
     "data": {
      "text/plain": [
       "'Hello'"
      ]
     },
     "execution_count": 85,
     "metadata": {},
     "output_type": "execute_result"
    }
   ],
   "source": [
    "printer('Hello')"
   ]
  },
  {
   "cell_type": "markdown",
   "id": "d7964b5f-b57d-4b4e-8567-9299974c9a0f",
   "metadata": {},
   "source": [
    "## Timer"
   ]
  },
  {
   "cell_type": "markdown",
   "id": "293d9c07-fa1e-442e-98b0-61fd6f77d715",
   "metadata": {
    "tags": []
   },
   "source": [
    "#### solution"
   ]
  },
  {
   "cell_type": "code",
   "execution_count": 100,
   "id": "5d246e1c-e60e-47cb-b0fe-f3a870bbcd8c",
   "metadata": {},
   "outputs": [],
   "source": [
    "import time\n",
    "\n",
    "def timer(func):                                                                                                                                   \n",
    "    def wrapper(*args, **kwargs):                                                                                                                  \n",
    "        start = time.time()                                                                                                                        \n",
    "        func(*args, **kwargs)                                                                                                                      \n",
    "        end = (time.time()) - start                                                                                                              \n",
    "        print(f'Time elapsed: {end}')                                                                                                              \n",
    "\n",
    "    return wrapper "
   ]
  },
  {
   "cell_type": "code",
   "execution_count": 101,
   "id": "b45c01ce-4685-4f92-a086-54171830f061",
   "metadata": {},
   "outputs": [],
   "source": [
    "\n",
    "@timer                                                                                                                                             \n",
    "def genrate_list(num):                                                                                                                             \n",
    "    [x for x in range(1, num)]"
   ]
  },
  {
   "cell_type": "markdown",
   "id": "35844df9-9c59-4a70-a9d8-c09ae39b7bf4",
   "metadata": {},
   "source": [
    "#### Call"
   ]
  },
  {
   "cell_type": "markdown",
   "id": "eb46a448-7c68-4eb0-8ce9-7b3e5d1b6631",
   "metadata": {},
   "source": [
    "genrate_list(1000)"
   ]
  },
  {
   "cell_type": "markdown",
   "id": "215134fa-280e-41bd-8358-5188438e88b9",
   "metadata": {},
   "source": [
    "# Slow down code"
   ]
  },
  {
   "cell_type": "markdown",
   "id": "6d12493a-bd67-432f-a1d4-7bc1543726ee",
   "metadata": {
    "jp-MarkdownHeadingCollapsed": true,
    "tags": []
   },
   "source": [
    "### Decorator"
   ]
  },
  {
   "cell_type": "code",
   "execution_count": 89,
   "id": "38cf4bfb-e18c-4017-9176-18435c93857e",
   "metadata": {},
   "outputs": [],
   "source": [
    "import time \n",
    "\n",
    "def slowdown(func):\n",
    "    def wrapper(n):\n",
    "        time.sleep(1)\n",
    "        return func(n) \n",
    "    return wrapper "
   ]
  },
  {
   "cell_type": "markdown",
   "id": "ac720b24-2363-4d67-8393-f0e57f4bec5a",
   "metadata": {},
   "source": [
    "### function"
   ]
  },
  {
   "cell_type": "code",
   "execution_count": 90,
   "id": "644c6ea2-cc3f-4797-bc2a-4df9410b3f5a",
   "metadata": {},
   "outputs": [],
   "source": [
    "# @slowdown\n",
    "def countdown(n):\n",
    "    if not n:   # 0 is false, not false is true\n",
    "        print('liftoff')\n",
    "    else:\n",
    "        print(n)\n",
    "        return countdown(n-1) # call the same function with n as one less"
   ]
  },
  {
   "cell_type": "code",
   "execution_count": null,
   "id": "439d241a-42c9-4b1e-a240-7b48fa9bf932",
   "metadata": {},
   "outputs": [],
   "source": []
  }
 ],
 "metadata": {
  "kernelspec": {
   "display_name": "Python 3 (ipykernel)",
   "language": "python",
   "name": "python3"
  },
  "language_info": {
   "codemirror_mode": {
    "name": "ipython",
    "version": 3
   },
   "file_extension": ".py",
   "mimetype": "text/x-python",
   "name": "python",
   "nbconvert_exporter": "python",
   "pygments_lexer": "ipython3",
   "version": "3.10.5"
  }
 },
 "nbformat": 4,
 "nbformat_minor": 5
}
