{
 "cells": [
  {
   "cell_type": "markdown",
   "id": "cd3d8d81-6199-4da6-b2e9-09da87777eef",
   "metadata": {},
   "source": [
    "# Decorators"
   ]
  },
  {
   "cell_type": "markdown",
   "id": "8aeddf1c-5091-4f45-9d07-7eb37682f520",
   "metadata": {
    "jp-MarkdownHeadingCollapsed": true,
    "tags": []
   },
   "source": [
    "## Properties"
   ]
  },
  {
   "cell_type": "markdown",
   "id": "0c8cafde-1a6f-4ec8-b3a1-65d75bb7e79f",
   "metadata": {},
   "source": [
    "**When we worked with properties 2 sessions ago we worked with decorators**"
   ]
  },
  {
   "cell_type": "code",
   "execution_count": 9,
   "id": "89f0c967-9399-45d5-b232-ab80dd7bb1f7",
   "metadata": {},
   "outputs": [],
   "source": [
    "class Game:\n",
    "    def __init__(self, *args):\n",
    "        self.title = args[0]\n",
    "    \n",
    "    def get_title(self):\n",
    "        return self.__title\n",
    "    \n",
    "    def set_title(self, title):\n",
    "        if type(title) == str:\n",
    "            self.__title = title\n",
    "        else:\n",
    "            raise TypeError('title attribute must be a string')\n",
    "            \n",
    "    # create a title property using the build in function porperty\n",
    "    title = property(get_title, set_title)"
   ]
  },
  {
   "cell_type": "code",
   "execution_count": 11,
   "id": "610e5b48-3076-4630-82cf-fdb7e6af9d96",
   "metadata": {},
   "outputs": [],
   "source": [
    "g = Game('GTA5')"
   ]
  },
  {
   "cell_type": "code",
   "execution_count": 12,
   "id": "a1bbb70a-2da6-4796-a1d9-241567fba21d",
   "metadata": {},
   "outputs": [
    {
     "data": {
      "text/plain": [
       "'GTA5'"
      ]
     },
     "execution_count": 12,
     "metadata": {},
     "output_type": "execute_result"
    }
   ],
   "source": [
    "g.title"
   ]
  },
  {
   "cell_type": "markdown",
   "id": "d4a01be8-5b96-4d06-a5ff-a26f1fd020c6",
   "metadata": {},
   "source": [
    "**Or we can use sytactic sugar (nice to read)**"
   ]
  },
  {
   "cell_type": "code",
   "execution_count": 18,
   "id": "20b570cd-bf71-4141-8a9d-aac1b6e722cc",
   "metadata": {},
   "outputs": [],
   "source": [
    "class Game:\n",
    "    def __init__(self, *args):\n",
    "        self.title = args[0]\n",
    "    \n",
    "    @property   \n",
    "    def title(self):\n",
    "        return self.__title\n",
    "    \n",
    "    @title.setter\n",
    "    def title(self, title):\n",
    "        if type(title) == str:\n",
    "            self.__title = title\n",
    "        else:\n",
    "            raise TypeError('title attribute must be a string')"
   ]
  },
  {
   "cell_type": "code",
   "execution_count": 19,
   "id": "bf0961f8-bfc6-4a0e-947c-522310a259a1",
   "metadata": {},
   "outputs": [],
   "source": [
    "g = Game('FIFA22')"
   ]
  },
  {
   "cell_type": "code",
   "execution_count": 20,
   "id": "5b25f420-1c5a-44f4-b37f-d059b9ee337f",
   "metadata": {},
   "outputs": [
    {
     "data": {
      "text/plain": [
       "'FIFA22'"
      ]
     },
     "execution_count": 20,
     "metadata": {},
     "output_type": "execute_result"
    }
   ],
   "source": [
    "g.title"
   ]
  },
  {
   "cell_type": "markdown",
   "id": "75e1f870-71f1-4894-85ea-3eaff712125b",
   "metadata": {},
   "source": [
    "So the build in function **property** is a decorator function."
   ]
  },
  {
   "cell_type": "markdown",
   "id": "3f58caa1-bf6c-4485-92d5-d740798d281c",
   "metadata": {},
   "source": [
    "## 1. Fist class functions"
   ]
  },
  {
   "cell_type": "markdown",
   "id": "71668022-ed58-49e9-b48a-514cb2d270b3",
   "metadata": {},
   "source": [
    "## 2. Inner fundtions"
   ]
  },
  {
   "cell_type": "markdown",
   "id": "bcccd81c-92eb-4293-a64b-d671458d910c",
   "metadata": {},
   "source": [
    "## 3. Decorator functions "
   ]
  },
  {
   "cell_type": "code",
   "execution_count": 30,
   "id": "de778d3d-bdde-48ee-ab09-51d534be8bcf",
   "metadata": {},
   "outputs": [],
   "source": []
  },
  {
   "cell_type": "code",
   "execution_count": 41,
   "id": "cf701a30-17b3-4024-8278-1f90ba91c743",
   "metadata": {},
   "outputs": [],
   "source": []
  },
  {
   "cell_type": "code",
   "execution_count": null,
   "id": "32e324d0-5901-4a16-9b6a-6d9c4de61b54",
   "metadata": {},
   "outputs": [],
   "source": []
  },
  {
   "cell_type": "code",
   "execution_count": null,
   "id": "167f9878-fbbe-459e-bcd0-985f904eb69e",
   "metadata": {},
   "outputs": [],
   "source": []
  }
 ],
 "metadata": {
  "kernelspec": {
   "display_name": "Python 3 (ipykernel)",
   "language": "python",
   "name": "python3"
  },
  "language_info": {
   "codemirror_mode": {
    "name": "ipython",
    "version": 3
   },
   "file_extension": ".py",
   "mimetype": "text/x-python",
   "name": "python",
   "nbconvert_exporter": "python",
   "pygments_lexer": "ipython3",
   "version": "3.10.5"
  }
 },
 "nbformat": 4,
 "nbformat_minor": 5
}
